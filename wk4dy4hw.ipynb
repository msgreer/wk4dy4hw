{
 "cells": [
  {
   "cell_type": "markdown",
   "id": "beb5030f",
   "metadata": {},
   "source": [
    "# <strong>Homework</strong>\n",
    "check out this Pokemon API https://pokeapi.co/\n",
    "Use the requests package to connect to this API and get and store data for 5 different pokemon.\n",
    "Get the pokemons: name, atleast one ability's name, base_experience, and the URL for its sprite (an image that shows up on screen) for the 'front_shiny', attack base_state, hp base_stat, defense base_stat"
   ]
  },
  {
   "cell_type": "markdown",
   "id": "146ff7c2",
   "metadata": {},
   "source": [
    "Pokemon #1 Ditto"
   ]
  },
  {
   "cell_type": "code",
   "execution_count": 77,
   "id": "0bc89f7a",
   "metadata": {},
   "outputs": [
    {
     "name": "stdout",
     "output_type": "stream",
     "text": [
      "This Pokemon goes by Ditto, they have the ability of imposter. Their base experience is 101, attack base is 48, HP base is 48 and the defense base is 48. You can see an image of this Pokemon here: https://raw.githubusercontent.com/PokeAPI/sprites/master/sprites/pokemon/shiny/132.png\n"
     ]
    }
   ],
   "source": [
    "import requests\n",
    "\n",
    "url = \"https://pokeapi.co/api/v2/pokemon/ditto\"\n",
    "\n",
    "response = requests.get(url)\n",
    "# print(response)\n",
    "response.json()\n",
    "\n",
    "\n",
    "ablt = response.json()['abilities'][1]['ability']\n",
    "exp = str(response.json()['base_experience'])\n",
    "sprite = response.json()['sprites']\n",
    "attack = response.json()['stats'][1]\n",
    "hp_stat = response.json()['stats'][0]\n",
    "def_stat = response.json()['stats'][2]\n",
    "poke_name = response.json()['name']\n",
    "\n",
    "    \n",
    "ablt_entry = ablt.get(\"name\")\n",
    "sprite_entry = sprite.get(\"front_shiny\")\n",
    "attack_entry = str(attack.get(\"base_stat\"))\n",
    "hp_entry = str(hp_stat.get(\"base_stat\"))\n",
    "def_entry = str(def_stat.get(\"base_stat\"))\n",
    "\n",
    "\n",
    "\n",
    "print('This Pokemon goes by ' + poke_name.title() + ', they have the ability of ' + ablt_entry + '. ' + \n",
    "      'Their base experience is ' + exp + ', attack base is ' + attack_entry + ', HP base is ' + hp_entry + \n",
    "      ' and the defense base is ' + def_entry + '. ' + 'You can see an image of this Pokemon here: ' +\n",
    "      sprite_entry\n",
    "     )"
   ]
  },
  {
   "cell_type": "markdown",
   "id": "17773814",
   "metadata": {},
   "source": [
    "Pokemon #2 Eevee (my personal favorite)"
   ]
  },
  {
   "cell_type": "code",
   "execution_count": 76,
   "id": "954526ec",
   "metadata": {},
   "outputs": [
    {
     "name": "stdout",
     "output_type": "stream",
     "text": [
      "This Pokemon goes by Eevee, they have the ability of adaptability. Their base experience is 65, attack base is 55, HP base is 55 and the defense base is 50. You can see an image of this Pokemon here: https://raw.githubusercontent.com/PokeAPI/sprites/master/sprites/pokemon/shiny/133.png\n"
     ]
    }
   ],
   "source": [
    "url = \"https://pokeapi.co/api/v2/pokemon/eevee\"\n",
    "\n",
    "response = requests.get(url)\n",
    "# print(response)\n",
    "response.json()\n",
    "\n",
    "\n",
    "\n",
    "ablt = response.json()['abilities'][1]['ability']\n",
    "exp = str(response.json()['base_experience'])\n",
    "sprite = response.json()['sprites']\n",
    "attack = response.json()['stats'][1]\n",
    "hp_stat = response.json()['stats'][0]\n",
    "def_stat = response.json()['stats'][2]\n",
    "poke_name = response.json()['name']\n",
    "\n",
    "\n",
    "\n",
    "    \n",
    "ablt_entry = ablt.get(\"name\")\n",
    "sprite_entry = sprite.get(\"front_shiny\")\n",
    "attack_entry = str(attack.get(\"base_stat\"))\n",
    "hp_entry = str(hp_stat.get(\"base_stat\"))\n",
    "def_entry = str(def_stat.get(\"base_stat\"))\n",
    "\n",
    "\n",
    "\n",
    "print('This Pokemon goes by ' + poke_name.title() + ', they have the ability of ' + ablt_entry + '. ' + \n",
    "      'Their base experience is ' + exp + ', attack base is ' + attack_entry + ', HP base is ' + hp_entry + \n",
    "      ' and the defense base is ' + def_entry + '. ' + 'You can see an image of this Pokemon here: ' +\n",
    "      sprite_entry\n",
    "     )"
   ]
  },
  {
   "cell_type": "markdown",
   "id": "41ce970d",
   "metadata": {},
   "source": [
    "Pokemon #3 Uxie (a rare pokemon)"
   ]
  },
  {
   "cell_type": "code",
   "execution_count": 79,
   "id": "1ce21e80",
   "metadata": {},
   "outputs": [
    {
     "name": "stdout",
     "output_type": "stream",
     "text": [
      "This Pokemon goes by Uxie, they have the ability of levitate. Their base experience is 290, attack base is 75, HP base is 75 and the defense base is 130. You can see an image of this Pokemon here: https://raw.githubusercontent.com/PokeAPI/sprites/master/sprites/pokemon/shiny/480.png\n"
     ]
    }
   ],
   "source": [
    "url = \"https://pokeapi.co/api/v2/pokemon/uxie\"\n",
    "\n",
    "response = requests.get(url)\n",
    "# print(response)\n",
    "response.json()\n",
    "\n",
    "\n",
    "\n",
    "ablt = response.json()['abilities'][0]['ability']\n",
    "exp = str(response.json()['base_experience'])\n",
    "sprite = response.json()['sprites']\n",
    "attack = response.json()['stats'][1]\n",
    "hp_stat = response.json()['stats'][0]\n",
    "def_stat = response.json()['stats'][2]\n",
    "poke_name = response.json()['name']\n",
    "\n",
    "\n",
    "\n",
    "    \n",
    "ablt_entry = ablt.get(\"name\")\n",
    "sprite_entry = sprite.get(\"front_shiny\")\n",
    "attack_entry = str(attack.get(\"base_stat\"))\n",
    "hp_entry = str(hp_stat.get(\"base_stat\"))\n",
    "def_entry = str(def_stat.get(\"base_stat\"))\n",
    "\n",
    "\n",
    "\n",
    "print('This Pokemon goes by ' + poke_name.title() + ', they have the ability of ' + ablt_entry + '. ' + \n",
    "      'Their base experience is ' + exp + ', attack base is ' + attack_entry + ', HP base is ' + hp_entry + \n",
    "      ' and the defense base is ' + def_entry + '. ' + 'You can see an image of this Pokemon here: ' +\n",
    "      sprite_entry\n",
    "     )"
   ]
  },
  {
   "cell_type": "markdown",
   "id": "0dabf57d",
   "metadata": {},
   "source": [
    "Pokemon # 4 Charizard (one of the most popular Pokemon)"
   ]
  },
  {
   "cell_type": "code",
   "execution_count": 80,
   "id": "66b94764",
   "metadata": {},
   "outputs": [
    {
     "name": "stdout",
     "output_type": "stream",
     "text": [
      "This Pokemon goes by Charizard, they have the ability of solar-power. Their base experience is 267, attack base is 84, HP base is 78 and the defense base is 78. You can see an image of this Pokemon here: https://raw.githubusercontent.com/PokeAPI/sprites/master/sprites/pokemon/shiny/6.png\n"
     ]
    }
   ],
   "source": [
    "url = \"https://pokeapi.co/api/v2/pokemon/charizard\"\n",
    "\n",
    "response = requests.get(url)\n",
    "# print(response)\n",
    "response.json()\n",
    "\n",
    "\n",
    "\n",
    "ablt = response.json()['abilities'][1]['ability']\n",
    "exp = str(response.json()['base_experience'])\n",
    "sprite = response.json()['sprites']\n",
    "attack = response.json()['stats'][1]\n",
    "hp_stat = response.json()['stats'][0]\n",
    "def_stat = response.json()['stats'][2]\n",
    "poke_name = response.json()['name']\n",
    "\n",
    "\n",
    "\n",
    "    \n",
    "ablt_entry = ablt.get(\"name\")\n",
    "sprite_entry = sprite.get(\"front_shiny\")\n",
    "attack_entry = str(attack.get(\"base_stat\"))\n",
    "hp_entry = str(hp_stat.get(\"base_stat\"))\n",
    "def_entry = str(def_stat.get(\"base_stat\"))\n",
    "\n",
    "\n",
    "\n",
    "print('This Pokemon goes by ' + poke_name.title() + ', they have the ability of ' + ablt_entry + '. ' + \n",
    "      'Their base experience is ' + exp + ', attack base is ' + attack_entry + ', HP base is ' + hp_entry + \n",
    "      ' and the defense base is ' + def_entry + '. ' + 'You can see an image of this Pokemon here: ' +\n",
    "      sprite_entry\n",
    "     )"
   ]
  },
  {
   "cell_type": "markdown",
   "id": "cc152396",
   "metadata": {},
   "source": [
    "Pokemon # 5 Squirtle (another very popular pokemon)"
   ]
  },
  {
   "cell_type": "code",
   "execution_count": 81,
   "id": "65076f7e",
   "metadata": {},
   "outputs": [
    {
     "name": "stdout",
     "output_type": "stream",
     "text": [
      "This Pokemon goes by Squirtle, they have the ability of rain-dish. Their base experience is 63, attack base is 48, HP base is 44 and the defense base is 65. You can see an image of this Pokemon here: https://raw.githubusercontent.com/PokeAPI/sprites/master/sprites/pokemon/shiny/7.png\n"
     ]
    }
   ],
   "source": [
    "url = \"https://pokeapi.co/api/v2/pokemon/squirtle\"\n",
    "\n",
    "response = requests.get(url)\n",
    "# print(response)\n",
    "response.json()\n",
    "\n",
    "\n",
    "\n",
    "ablt = response.json()['abilities'][1]['ability']\n",
    "exp = str(response.json()['base_experience'])\n",
    "sprite = response.json()['sprites']\n",
    "attack = response.json()['stats'][1]\n",
    "hp_stat = response.json()['stats'][0]\n",
    "def_stat = response.json()['stats'][2]\n",
    "poke_name = response.json()['name']\n",
    "\n",
    "\n",
    "\n",
    "    \n",
    "ablt_entry = ablt.get(\"name\")\n",
    "sprite_entry = sprite.get(\"front_shiny\")\n",
    "attack_entry = str(attack.get(\"base_stat\"))\n",
    "hp_entry = str(hp_stat.get(\"base_stat\"))\n",
    "def_entry = str(def_stat.get(\"base_stat\"))\n",
    "\n",
    "\n",
    "\n",
    "print('This Pokemon goes by ' + poke_name.title() + ', they have the ability of ' + ablt_entry + '. ' + \n",
    "      'Their base experience is ' + exp + ', attack base is ' + attack_entry + ', HP base is ' + hp_entry + \n",
    "      ' and the defense base is ' + def_entry + '. ' + 'You can see an image of this Pokemon here: ' +\n",
    "      sprite_entry\n",
    "     )"
   ]
  }
 ],
 "metadata": {
  "kernelspec": {
   "display_name": "Python 3 (ipykernel)",
   "language": "python",
   "name": "python3"
  },
  "language_info": {
   "codemirror_mode": {
    "name": "ipython",
    "version": 3
   },
   "file_extension": ".py",
   "mimetype": "text/x-python",
   "name": "python",
   "nbconvert_exporter": "python",
   "pygments_lexer": "ipython3",
   "version": "3.9.12"
  }
 },
 "nbformat": 4,
 "nbformat_minor": 5
}
